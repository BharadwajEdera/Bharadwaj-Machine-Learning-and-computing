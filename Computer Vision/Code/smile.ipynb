{
 "cells": [
  {
   "cell_type": "code",
   "execution_count": 1,
   "metadata": {},
   "outputs": [
    {
     "name": "stdout",
     "output_type": "stream",
     "text": [
      "M:\\IIST\\SEM 2\\COMPUTER VISION\\Project\\FaceAttributeRecognition\\neutral_smile\n"
     ]
    }
   ],
   "source": [
    "cd M:\\IIST\\SEM 2\\COMPUTER VISION\\Project\\FaceAttributeRecognition\\neutral_smile"
   ]
  },
  {
   "cell_type": "code",
   "execution_count": null,
   "metadata": {},
   "outputs": [],
   "source": []
  },
  {
   "cell_type": "code",
   "execution_count": 2,
   "metadata": {},
   "outputs": [],
   "source": [
    "import numpy as np\n",
    "import cv2\n",
    "import pandas as pd\n",
    "import imageio as im\n",
    "from PIL import Image\n",
    "import os\n",
    "import dlib\n",
    "from imutils.face_utils.helpers import rect_to_bb\n",
    "import tqdm"
   ]
  },
  {
   "cell_type": "code",
   "execution_count": null,
   "metadata": {},
   "outputs": [],
   "source": []
  },
  {
   "cell_type": "code",
   "execution_count": 3,
   "metadata": {},
   "outputs": [],
   "source": [
    "all_images = []\n",
    "labels = []\n",
    "img_dir = ['smiling/','not_smiling/']\n",
    "for im_dir in img_dir:\n",
    "    images = os.listdir(im_dir)\n",
    "    for image in images:\n",
    "        img = cv2.imread(im_dir + image)\n",
    "        img = cv2.resize(img, (36, 36))\n",
    "        all_images.append(img)\n",
    "        labels.append(img_dir.index(im_dir))"
   ]
  },
  {
   "cell_type": "code",
   "execution_count": 4,
   "metadata": {},
   "outputs": [
    {
     "data": {
      "text/plain": [
       "(36, 36, 3)"
      ]
     },
     "execution_count": 4,
     "metadata": {},
     "output_type": "execute_result"
    }
   ],
   "source": [
    "all_images[0].shape"
   ]
  },
  {
   "cell_type": "code",
   "execution_count": 5,
   "metadata": {},
   "outputs": [
    {
     "data": {
      "text/plain": [
       "691"
      ]
     },
     "execution_count": 5,
     "metadata": {},
     "output_type": "execute_result"
    }
   ],
   "source": [
    "data = np.array(all_images)\n",
    "data = data.astype('float32')\n",
    "data /= 255.0\n",
    "len(data)"
   ]
  },
  {
   "cell_type": "code",
   "execution_count": 6,
   "metadata": {},
   "outputs": [
    {
     "data": {
      "text/plain": [
       "(691, 2)"
      ]
     },
     "execution_count": 6,
     "metadata": {},
     "output_type": "execute_result"
    }
   ],
   "source": [
    "from sklearn.preprocessing import OneHotEncoder\n",
    "labels = np.asarray(labels)\n",
    "labels = labels.reshape(-1, 1)\n",
    "ohe_y=OneHotEncoder()\n",
    "Y=ohe_y.fit_transform(labels)\n",
    "Y.shape"
   ]
  },
  {
   "cell_type": "code",
   "execution_count": 7,
   "metadata": {},
   "outputs": [],
   "source": [
    "from sklearn.utils import shuffle\n",
    "from sklearn.model_selection import train_test_split\n",
    "x,y = shuffle(data,Y, random_state=42)\n",
    "# Split the dataset\n",
    "X_train, X_test, y_train, y_test = train_test_split(x, y, test_size=0.2, random_state=2)"
   ]
  },
  {
   "cell_type": "markdown",
   "metadata": {},
   "source": [
    "### First trained model"
   ]
  },
  {
   "cell_type": "code",
   "execution_count": 8,
   "metadata": {},
   "outputs": [
    {
     "name": "stderr",
     "output_type": "stream",
     "text": [
      "Using TensorFlow backend.\n"
     ]
    }
   ],
   "source": [
    "import keras\n",
    "from keras.layers import Dense, Input, Dropout, Convolution2D, MaxPooling2D, Flatten\n",
    "from keras.models import Model, Sequential\n",
    "from keras.optimizers import Adam\n",
    "from keras.callbacks import Callback"
   ]
  },
  {
   "cell_type": "code",
   "execution_count": 10,
   "metadata": {
    "scrolled": true
   },
   "outputs": [
    {
     "name": "stderr",
     "output_type": "stream",
     "text": [
      "C:\\Users\\Bharadwaj\\.conda\\envs\\gputest\\lib\\site-packages\\ipykernel_launcher.py:9: UserWarning: Update your `Conv2D` call to the Keras 2 API: `Conv2D(32, (3, 3), activation=\"relu\", input_shape=(36, 36, 3...)`\n",
      "  if __name__ == '__main__':\n",
      "C:\\Users\\Bharadwaj\\.conda\\envs\\gputest\\lib\\site-packages\\ipykernel_launcher.py:11: UserWarning: Update your `Conv2D` call to the Keras 2 API: `Conv2D(64, (3, 3), activation=\"relu\")`\n",
      "  # This is added back by InteractiveShellApp.init_path()\n",
      "C:\\Users\\Bharadwaj\\.conda\\envs\\gputest\\lib\\site-packages\\ipykernel_launcher.py:16: UserWarning: Update your `Conv2D` call to the Keras 2 API: `Conv2D(128, (3, 3), activation=\"relu\")`\n",
      "  app.launch_new_instance()\n",
      "C:\\Users\\Bharadwaj\\.conda\\envs\\gputest\\lib\\site-packages\\ipykernel_launcher.py:19: UserWarning: Update your `Conv2D` call to the Keras 2 API: `Conv2D(256, (3, 3), activation=\"relu\")`\n"
     ]
    },
    {
     "name": "stdout",
     "output_type": "stream",
     "text": [
      "Train on 552 samples, validate on 139 samples\n",
      "Epoch 1/30\n",
      "552/552 [==============================] - 7s 12ms/step - loss: 0.4223 - accuracy: 0.8641 - val_loss: 0.4698 - val_accuracy: 0.8201\n",
      "Epoch 2/30\n",
      "552/552 [==============================] - 6s 11ms/step - loss: 0.4195 - accuracy: 0.8641 - val_loss: 0.4695 - val_accuracy: 0.8201\n",
      "Epoch 3/30\n",
      "552/552 [==============================] - 6s 11ms/step - loss: 0.4209 - accuracy: 0.8641 - val_loss: 0.5237 - val_accuracy: 0.8201\n",
      "Epoch 4/30\n",
      "552/552 [==============================] - 6s 12ms/step - loss: 0.4232 - accuracy: 0.8641 - val_loss: 0.4684 - val_accuracy: 0.8201\n",
      "Epoch 5/30\n",
      "552/552 [==============================] - 6s 11ms/step - loss: 0.4040 - accuracy: 0.8641 - val_loss: 0.4782 - val_accuracy: 0.8201\n",
      "Epoch 6/30\n",
      "552/552 [==============================] - 6s 11ms/step - loss: 0.4015 - accuracy: 0.8641 - val_loss: 0.4986 - val_accuracy: 0.8201\n",
      "Epoch 7/30\n",
      "552/552 [==============================] - 6s 10ms/step - loss: 0.4140 - accuracy: 0.8641 - val_loss: 0.4879 - val_accuracy: 0.8201\n",
      "Epoch 8/30\n",
      "552/552 [==============================] - 6s 11ms/step - loss: 0.3980 - accuracy: 0.8641 - val_loss: 0.4613 - val_accuracy: 0.8201\n",
      "Epoch 9/30\n",
      "552/552 [==============================] - 6s 10ms/step - loss: 0.3759 - accuracy: 0.8641 - val_loss: 0.4500 - val_accuracy: 0.8201\n",
      "Epoch 10/30\n",
      "552/552 [==============================] - 6s 10ms/step - loss: 0.3454 - accuracy: 0.8641 - val_loss: 0.4527 - val_accuracy: 0.8201\n",
      "Epoch 11/30\n",
      "552/552 [==============================] - 6s 10ms/step - loss: 0.3190 - accuracy: 0.8659 - val_loss: 0.4081 - val_accuracy: 0.8273\n",
      "Epoch 12/30\n",
      "552/552 [==============================] - 6s 10ms/step - loss: 0.2817 - accuracy: 0.8859 - val_loss: 0.3636 - val_accuracy: 0.8345\n",
      "Epoch 13/30\n",
      "552/552 [==============================] - 6s 11ms/step - loss: 0.2495 - accuracy: 0.8967 - val_loss: 0.3345 - val_accuracy: 0.8633\n",
      "Epoch 14/30\n",
      "552/552 [==============================] - 6s 11ms/step - loss: 0.2114 - accuracy: 0.9167 - val_loss: 0.3284 - val_accuracy: 0.8633\n",
      "Epoch 15/30\n",
      "552/552 [==============================] - 6s 11ms/step - loss: 0.1745 - accuracy: 0.9293 - val_loss: 0.3112 - val_accuracy: 0.8705\n",
      "Epoch 16/30\n",
      "552/552 [==============================] - 7s 12ms/step - loss: 0.1662 - accuracy: 0.9366 - val_loss: 0.3470 - val_accuracy: 0.8273\n",
      "Epoch 17/30\n",
      "552/552 [==============================] - 6s 11ms/step - loss: 0.1574 - accuracy: 0.9348 - val_loss: 0.2828 - val_accuracy: 0.8633\n",
      "Epoch 18/30\n",
      "552/552 [==============================] - 6s 10ms/step - loss: 0.1155 - accuracy: 0.9529 - val_loss: 0.2914 - val_accuracy: 0.8849\n",
      "Epoch 19/30\n",
      "552/552 [==============================] - 6s 10ms/step - loss: 0.1174 - accuracy: 0.9565 - val_loss: 0.3071 - val_accuracy: 0.8777\n",
      "Epoch 20/30\n",
      "552/552 [==============================] - 6s 10ms/step - loss: 0.1026 - accuracy: 0.9638 - val_loss: 0.3203 - val_accuracy: 0.8633\n",
      "Epoch 21/30\n",
      "552/552 [==============================] - 6s 10ms/step - loss: 0.0864 - accuracy: 0.9638 - val_loss: 0.3305 - val_accuracy: 0.8705\n",
      "Epoch 22/30\n",
      "552/552 [==============================] - 6s 11ms/step - loss: 0.0874 - accuracy: 0.9620 - val_loss: 0.3065 - val_accuracy: 0.8777\n",
      "Epoch 23/30\n",
      "552/552 [==============================] - 6s 11ms/step - loss: 0.0623 - accuracy: 0.9746 - val_loss: 0.3543 - val_accuracy: 0.8633\n",
      "Epoch 24/30\n",
      "552/552 [==============================] - 6s 11ms/step - loss: 0.0540 - accuracy: 0.9801 - val_loss: 0.3227 - val_accuracy: 0.8777\n",
      "Epoch 25/30\n",
      "552/552 [==============================] - 6s 11ms/step - loss: 0.0517 - accuracy: 0.9837 - val_loss: 0.3537 - val_accuracy: 0.8777\n",
      "Epoch 26/30\n",
      "552/552 [==============================] - 6s 12ms/step - loss: 0.0342 - accuracy: 0.9909 - val_loss: 0.5042 - val_accuracy: 0.8489\n",
      "Epoch 27/30\n",
      "552/552 [==============================] - 6s 11ms/step - loss: 0.0435 - accuracy: 0.9855 - val_loss: 0.3883 - val_accuracy: 0.8705\n",
      "Epoch 28/30\n",
      "552/552 [==============================] - 6s 11ms/step - loss: 0.0368 - accuracy: 0.9891 - val_loss: 0.4002 - val_accuracy: 0.8849\n",
      "Epoch 29/30\n",
      "552/552 [==============================] - 6s 11ms/step - loss: 0.0324 - accuracy: 0.9855 - val_loss: 0.3675 - val_accuracy: 0.8777\n",
      "Epoch 30/30\n",
      "552/552 [==============================] - 7s 12ms/step - loss: 0.0260 - accuracy: 0.9891 - val_loss: 0.3989 - val_accuracy: 0.8849\n"
     ]
    },
    {
     "data": {
      "text/plain": [
       "<keras.callbacks.callbacks.History at 0x1ca31c26908>"
      ]
     },
     "execution_count": 10,
     "metadata": {},
     "output_type": "execute_result"
    }
   ],
   "source": [
    "import keras\n",
    "from keras.layers import Dense, Input, Dropout, Convolution2D, MaxPooling2D, Flatten\n",
    "from keras.models import Model, Sequential\n",
    "from keras.optimizers import Adam\n",
    "from keras.callbacks import Callback\n",
    "\n",
    "classifier=Sequential()\n",
    "\n",
    "classifier.add(Convolution2D(32,3,3,activation='relu',input_shape=(36, 36, 3)))\n",
    "\n",
    "classifier.add(Convolution2D(64,3,3,activation='relu'))\n",
    "classifier.add(MaxPooling2D(pool_size=(2,2)))\n",
    "classifier.add(Dropout(0.25))\n",
    "\n",
    "\n",
    "classifier.add(Convolution2D(128,3,3,activation='relu'))\n",
    "classifier.add(MaxPooling2D(pool_size=(2,2)))\n",
    "\n",
    "classifier.add(Convolution2D(256,3,3,activation='relu'))\n",
    "classifier.add(MaxPooling2D(pool_size=(2,2)))\n",
    "classifier.add(Dropout(0.25))\n",
    "\n",
    "\n",
    "classifier.add(Flatten())\n",
    "\n",
    "classifier.add(Dense(256,activation='relu'))\n",
    "classifier.add(Dropout(0.5))\n",
    "classifier.add(Dense(2,activation='softmax'))\n",
    "\n",
    "classifier.compile(Adam(lr=0.0001, decay=1e-6),loss='categorical_crossentropy',metrics=['accuracy'])\n",
    "\n",
    "\n",
    "classifier.fit(X_train, y_train, validation_data=(X_test, y_test), epochs=30, batch_size=1, shuffle=True, verbose=1)"
   ]
  },
  {
   "cell_type": "code",
   "execution_count": 26,
   "metadata": {},
   "outputs": [],
   "source": [
    "classifier.save('smile_model_1.h5')"
   ]
  },
  {
   "cell_type": "code",
   "execution_count": 11,
   "metadata": {},
   "outputs": [
    {
     "name": "stdout",
     "output_type": "stream",
     "text": [
      "Train on 552 samples, validate on 139 samples\n",
      "Epoch 1/6\n",
      "552/552 [==============================] - 7s 12ms/step - loss: 0.0240 - accuracy: 0.9928 - val_loss: 0.4578 - val_accuracy: 0.8777\n",
      "Epoch 2/6\n",
      "552/552 [==============================] - 6s 12ms/step - loss: 0.0256 - accuracy: 0.9855 - val_loss: 0.4507 - val_accuracy: 0.8417\n",
      "Epoch 3/6\n",
      "552/552 [==============================] - 6s 11ms/step - loss: 0.0289 - accuracy: 0.9909 - val_loss: 0.4388 - val_accuracy: 0.8921\n",
      "Epoch 4/6\n",
      "552/552 [==============================] - 6s 11ms/step - loss: 0.0242 - accuracy: 0.9909 - val_loss: 0.4336 - val_accuracy: 0.8921\n",
      "Epoch 5/6\n",
      "552/552 [==============================] - 6s 11ms/step - loss: 0.0484 - accuracy: 0.9837 - val_loss: 0.5351 - val_accuracy: 0.8849\n",
      "Epoch 6/6\n",
      "552/552 [==============================] - 6s 11ms/step - loss: 0.0097 - accuracy: 0.9982 - val_loss: 0.5025 - val_accuracy: 0.8993\n"
     ]
    },
    {
     "data": {
      "text/plain": [
       "<keras.callbacks.callbacks.History at 0x1ca25a83a58>"
      ]
     },
     "execution_count": 11,
     "metadata": {},
     "output_type": "execute_result"
    }
   ],
   "source": [
    "classifier.fit(X_train, y_train, validation_data=(X_test, y_test), epochs=6, batch_size=1, shuffle=True, verbose=1)"
   ]
  },
  {
   "cell_type": "code",
   "execution_count": null,
   "metadata": {},
   "outputs": [],
   "source": []
  },
  {
   "cell_type": "code",
   "execution_count": null,
   "metadata": {},
   "outputs": [],
   "source": []
  },
  {
   "cell_type": "code",
   "execution_count": null,
   "metadata": {},
   "outputs": [],
   "source": []
  },
  {
   "cell_type": "code",
   "execution_count": null,
   "metadata": {},
   "outputs": [],
   "source": []
  },
  {
   "cell_type": "code",
   "execution_count": null,
   "metadata": {},
   "outputs": [],
   "source": []
  },
  {
   "cell_type": "code",
   "execution_count": null,
   "metadata": {},
   "outputs": [],
   "source": []
  },
  {
   "cell_type": "code",
   "execution_count": null,
   "metadata": {},
   "outputs": [],
   "source": []
  },
  {
   "cell_type": "code",
   "execution_count": null,
   "metadata": {},
   "outputs": [],
   "source": []
  },
  {
   "cell_type": "markdown",
   "metadata": {},
   "source": [
    "### Using the LR finder"
   ]
  },
  {
   "cell_type": "code",
   "execution_count": 13,
   "metadata": {},
   "outputs": [],
   "source": [
    "class LR_Finder(Callback):\n",
    "    \n",
    "    def __init__(self, start_lr=1e-5, end_lr=10, step_size=None, beta=.98):\n",
    "        super().__init__()\n",
    "        \n",
    "        self.start_lr = start_lr\n",
    "        self.end_lr = end_lr\n",
    "        self.step_size = step_size\n",
    "        self.beta = beta\n",
    "        self.lr_mult = (end_lr/start_lr)**(1/step_size)\n",
    "        \n",
    "    def on_train_begin(self, logs=None):\n",
    "        self.best_loss = 1e9\n",
    "        self.avg_loss = 0\n",
    "        self.losses, self.smoothed_losses, self.lrs, self.iterations = [], [], [], []\n",
    "        self.iteration = 0\n",
    "        logs = logs or {}\n",
    "        K.set_value(self.model.optimizer.lr, self.start_lr)\n",
    "        \n",
    "    def on_batch_end(self, epoch, logs=None):\n",
    "        logs = logs or {}\n",
    "        loss = logs.get('loss')\n",
    "        self.iteration += 1\n",
    "        \n",
    "        self.avg_loss = self.beta * self.avg_loss + (1 - self.beta) * loss\n",
    "        smoothed_loss = self.avg_loss / (1 - self.beta**self.iteration)\n",
    "        \n",
    "        # Check if the loss is not exploding\n",
    "        if self.iteration>1 and smoothed_loss > self.best_loss * 4:\n",
    "            self.model.stop_training = True\n",
    "            return\n",
    "\n",
    "        if smoothed_loss < self.best_loss or self.iteration==1:\n",
    "            self.best_loss = smoothed_loss\n",
    "        \n",
    "        lr = self.start_lr * (self.lr_mult**self.iteration)\n",
    "        \n",
    "        self.losses.append(loss)\n",
    "        self.smoothed_losses.append(smoothed_loss)\n",
    "        self.lrs.append(lr)\n",
    "        self.iterations.append(self.iteration)\n",
    "        \n",
    "        \n",
    "        K.set_value(self.model.optimizer.lr, lr)  \n",
    "        \n",
    "    def plot_lr(self):\n",
    "        plt.xlabel('Iterations')\n",
    "        plt.ylabel('Learning rate')\n",
    "        plt.plot(self.iterations, self.lrs)\n",
    "        \n",
    "    def plot(self, n_skip=10):\n",
    "        plt.ylabel('Loss')\n",
    "        plt.xlabel('Learning rate (log scale)')\n",
    "        plt.plot(self.lrs[n_skip:-5], self.losses[n_skip:-5])\n",
    "        plt.xscale('log')\n",
    "        \n",
    "    def plot_smoothed_loss(self, n_skip=10):\n",
    "        plt.ylabel('Smoothed Losses')\n",
    "        plt.xlabel('Learning rate (log scale)')\n",
    "        plt.plot(self.lrs[n_skip:-5], self.smoothed_losses[n_skip:-5])\n",
    "        plt.xscale('log')\n",
    "        \n",
    "    def plot_loss(self):\n",
    "        plt.ylabel('Losses')\n",
    "        plt.xlabel('Iterations')\n",
    "        plt.plot(self.iterations[10:], self.losses[10:])"
   ]
  },
  {
   "cell_type": "code",
   "execution_count": 14,
   "metadata": {},
   "outputs": [
    {
     "name": "stdout",
     "output_type": "stream",
     "text": [
      "Epoch 1/1\n",
      "552/552 [==============================] - 1s 2ms/step - loss: 0.0110 - accuracy: 0.9946\n"
     ]
    },
    {
     "data": {
      "text/plain": [
       "<keras.callbacks.callbacks.History at 0x1ca31bef278>"
      ]
     },
     "execution_count": 14,
     "metadata": {},
     "output_type": "execute_result"
    }
   ],
   "source": [
    "import keras.backend as K\n",
    "\n",
    "lr_finder = LR_Finder(start_lr=1e-5, end_lr=10, step_size=np.ceil(X_train.shape[0]/1))\n",
    "classifier.fit(X_train, y_train, callbacks=[lr_finder] )"
   ]
  },
  {
   "cell_type": "code",
   "execution_count": 15,
   "metadata": {},
   "outputs": [
    {
     "data": {
      "image/png": "[encoded data removed]",
      "text/plain": [
       "<Figure size 432x288 with 1 Axes>"
      ]
     },
     "metadata": {
      "needs_background": "light"
     },
     "output_type": "display_data"
    }
   ],
   "source": [
    "import matplotlib.pyplot as plt\n",
    "lr_finder.plot_lr()"
   ]
  },
  {
   "cell_type": "code",
   "execution_count": null,
   "metadata": {},
   "outputs": [],
   "source": []
  },
  {
   "cell_type": "code",
   "execution_count": 17,
   "metadata": {},
   "outputs": [
    {
     "data": {
      "image/png": "[encoded data removed]",
      "text/plain": [
       "<Figure size 432x288 with 1 Axes>"
      ]
     },
     "metadata": {
      "needs_background": "light"
     },
     "output_type": "display_data"
    }
   ],
   "source": [
    "lr_finder.plot()"
   ]
  },
  {
   "cell_type": "code",
   "execution_count": 18,
   "metadata": {},
   "outputs": [
    {
     "data": {
      "image/png": "[encoded data removed]",
      "text/plain": [
       "<Figure size 432x288 with 1 Axes>"
      ]
     },
     "metadata": {
      "needs_background": "light"
     },
     "output_type": "display_data"
    }
   ],
   "source": [
    "lr_finder.plot_smoothed_loss()\n"
   ]
  },
  {
   "cell_type": "code",
   "execution_count": 19,
   "metadata": {},
   "outputs": [
    {
     "data": {
      "image/png": "[encoded data removed]",
      "text/plain": [
       "<Figure size 432x288 with 1 Axes>"
      ]
     },
     "metadata": {
      "needs_background": "light"
     },
     "output_type": "display_data"
    }
   ],
   "source": [
    "lr_finder.plot_loss()\n"
   ]
  },
  {
   "cell_type": "code",
   "execution_count": null,
   "metadata": {},
   "outputs": [],
   "source": []
  },
  {
   "cell_type": "code",
   "execution_count": null,
   "metadata": {},
   "outputs": [],
   "source": []
  },
  {
   "cell_type": "markdown",
   "metadata": {},
   "source": [
    "### Basic Model"
   ]
  },
  {
   "cell_type": "code",
   "execution_count": 17,
   "metadata": {},
   "outputs": [],
   "source": [
    "import keras\n",
    "from keras.layers import Dense, Input, Dropout, Conv2D, MaxPooling2D, Flatten\n",
    "from keras.models import Model, Sequential\n",
    "from keras.optimizers import Adam\n",
    "from keras.callbacks import Callback\n",
    "import keras.backend as K\n",
    "\n",
    "model = Sequential()\n",
    "\n",
    "model.add(Conv2D(32, (3, 3), padding='same', activation='relu', input_shape=X_train.shape[1:]))\n",
    "\n",
    "model.add(Conv2D(32,(3, 3), activation='relu'))\n",
    "model.add(MaxPooling2D())\n",
    "model.add(Dropout(0.25))\n",
    "\n",
    "model.add(Conv2D(64, (3, 3), padding='same', activation='relu'))\n",
    "\n",
    "model.add(Conv2D(64, (3,3), activation='relu'))\n",
    "model.add(MaxPooling2D())\n",
    "model.add(Dropout(0.25))\n",
    "\n",
    "model.add(Flatten())\n",
    "model.add(Dense(512, activation='relu'))\n",
    "model.add(Dropout(0.5))\n",
    "model.add(Dense(2, activation='softmax'))\n"
   ]
  },
  {
   "cell_type": "code",
   "execution_count": 18,
   "metadata": {},
   "outputs": [],
   "source": [
    "model.compile(loss='categorical_crossentropy', optimizer='ADAM', metrics=['accuracy'])"
   ]
  },
  {
   "cell_type": "code",
   "execution_count": 20,
   "metadata": {},
   "outputs": [
    {
     "name": "stdout",
     "output_type": "stream",
     "text": [
      "Train on 952 samples, validate on 239 samples\n",
      "Epoch 1/5\n",
      "952/952 [==============================] - 14s 14ms/step - loss: 0.6952 - acc: 0.5116 - val_loss: 0.6918 - val_acc: 0.5230\n",
      "Epoch 2/5\n",
      "952/952 [==============================] - 13s 14ms/step - loss: 0.6973 - acc: 0.5042 - val_loss: 0.6905 - val_acc: 0.5230\n",
      "Epoch 3/5\n",
      "952/952 [==============================] - 13s 14ms/step - loss: 0.6920 - acc: 0.5431 - val_loss: 0.6930 - val_acc: 0.4854\n",
      "Epoch 4/5\n",
      "952/952 [==============================] - 13s 14ms/step - loss: 0.6909 - acc: 0.5336 - val_loss: 0.6880 - val_acc: 0.5146\n",
      "Epoch 5/5\n",
      "952/952 [==============================] - 13s 14ms/step - loss: 0.6916 - acc: 0.5462 - val_loss: 0.6871 - val_acc: 0.6485\n"
     ]
    },
    {
     "data": {
      "text/plain": [
       "<keras.callbacks.History at 0x7eff0cf7a160>"
      ]
     },
     "execution_count": 20,
     "metadata": {},
     "output_type": "execute_result"
    }
   ],
   "source": [
    "lr_finder = LR_Finder(start_lr=1e-5, end_lr=10, step_size=np.ceil(X_train.shape[0]/1))\n",
    "model.fit(X_train, y_train, callbacks=[lr_finder],epochs = 5,validation_data=(X_test,y_test),verbose=1 )"
   ]
  },
  {
   "cell_type": "code",
   "execution_count": 21,
   "metadata": {},
   "outputs": [
    {
     "name": "stdout",
     "output_type": "stream",
     "text": [
      "Train on 952 samples, validate on 239 samples\n",
      "Epoch 1/15\n",
      "952/952 [==============================] - 14s 14ms/step - loss: 0.6851 - acc: 0.5441 - val_loss: 0.6854 - val_acc: 0.5858\n",
      "Epoch 2/15\n",
      "952/952 [==============================] - 13s 14ms/step - loss: 0.6874 - acc: 0.5567 - val_loss: 0.6844 - val_acc: 0.6611\n",
      "Epoch 3/15\n",
      "952/952 [==============================] - 13s 14ms/step - loss: 0.6825 - acc: 0.5557 - val_loss: 0.6829 - val_acc: 0.6778\n",
      "Epoch 4/15\n",
      "952/952 [==============================] - 13s 14ms/step - loss: 0.6824 - acc: 0.5672 - val_loss: 0.6813 - val_acc: 0.7071\n",
      "Epoch 5/15\n",
      "952/952 [==============================] - 13s 14ms/step - loss: 0.6789 - acc: 0.5746 - val_loss: 0.6767 - val_acc: 0.7238\n",
      "Epoch 6/15\n",
      "952/952 [==============================] - 14s 14ms/step - loss: 0.6647 - acc: 0.6019 - val_loss: 0.6638 - val_acc: 0.6067\n",
      "Epoch 7/15\n",
      "952/952 [==============================] - 15s 16ms/step - loss: 0.6624 - acc: 0.6061 - val_loss: 0.6586 - val_acc: 0.6569\n",
      "Epoch 8/15\n",
      "952/952 [==============================] - 14s 14ms/step - loss: 0.6228 - acc: 0.6723 - val_loss: 0.5800 - val_acc: 0.7406\n",
      "Epoch 9/15\n",
      "952/952 [==============================] - 15s 16ms/step - loss: 0.5664 - acc: 0.7164 - val_loss: 0.6284 - val_acc: 0.6653\n",
      "Epoch 10/15\n",
      "952/952 [==============================] - 15s 16ms/step - loss: 0.5078 - acc: 0.7595 - val_loss: 0.4535 - val_acc: 0.7950\n",
      "Epoch 11/15\n",
      "952/952 [==============================] - 14s 15ms/step - loss: 0.4866 - acc: 0.7700 - val_loss: 0.4773 - val_acc: 0.7531\n",
      "Epoch 12/15\n",
      "952/952 [==============================] - 15s 15ms/step - loss: 0.4785 - acc: 0.7710 - val_loss: 0.4876 - val_acc: 0.7573\n",
      "Epoch 13/15\n",
      "952/952 [==============================] - 14s 15ms/step - loss: 0.4732 - acc: 0.7826 - val_loss: 0.7631 - val_acc: 0.6527\n",
      "Epoch 14/15\n",
      "952/952 [==============================] - 14s 14ms/step - loss: 0.5701 - acc: 0.7111 - val_loss: 0.5213 - val_acc: 0.7406\n",
      "Epoch 15/15\n",
      "952/952 [==============================] - 15s 16ms/step - loss: 0.5606 - acc: 0.7353 - val_loss: 0.5471 - val_acc: 0.7364\n"
     ]
    },
    {
     "data": {
      "text/plain": [
       "<keras.callbacks.History at 0x7eff6cf53908>"
      ]
     },
     "execution_count": 21,
     "metadata": {},
     "output_type": "execute_result"
    }
   ],
   "source": [
    "model.fit(X_train, y_train, callbacks=[lr_finder],epochs = 15,validation_data=(X_test,y_test),verbose=1 )"
   ]
  },
  {
   "cell_type": "code",
   "execution_count": 41,
   "metadata": {},
   "outputs": [],
   "source": [
    "# ## Selecting the images from one directory and storing in another by taking only detected faces\n",
    "# detector = dlib.get_frontal_face_detector()\n",
    "# dest = 'ang/'\n",
    "# im_dir = 'angry/'\n",
    "# i=0\n",
    "# images = os.listdir(im_dir)\n",
    "# for image in images:\n",
    "#     if i == 300:   \n",
    "#         break\n",
    "#     else:\n",
    "#         i+=1\n",
    "#         img = cv2.imread(im_dir + image)\n",
    "#         gray = cv2.cvtColor(img, cv2.COLOR_BGR2GRAY)\n",
    "#         rects = detector(gray, 1) \n",
    "#         for j,rect in enumerate(rects):\n",
    "#             (x, y, w, h) = rect_to_bb(rect)\n",
    "#             sub_face = gray[y:y+h, x:x+w]\n",
    "#             des_img = dest+str(i)+'_'+str(j)+'.png'\n",
    "#             print(image,des_img)\n",
    "#             cv2.imwrite(des_img,sub_face)\n",
    "\n",
    "\n",
    "# ## moving images from one folder to other by chnaging image size\n",
    "# source ='sup/'          \n",
    "# dest = 'not_smiling/'\n",
    "# images = sorted(os.listdir(source))\n",
    "# k=500\n",
    "# for image in images:\n",
    "#     print(image)\n",
    "#     img  = cv2.imread(os.path.join(source,image))\n",
    "#     img = cv2.resize(img, (48, 48)) # need to resize the image into common size\n",
    "#     extension = image.split('.')[-1]\n",
    "#     k+=1\n",
    "#     cv2.imwrite(dest+str(k)+'.'+extension,img)\n",
    "\n",
    "# len(images)\n",
    "\n",
    "# source ='smile/'          \n",
    "# dest = 'smiling/'\n",
    "# images = sorted(os.listdir(source))\n",
    "# for i,image in enumerate(images):\n",
    "#     print(image)\n",
    "#     img  = cv2.imread(os.path.join(source,image))\n",
    "#     img = cv2.resize(img, (48, 48)) # need to resize the image into common size\n",
    "#     i+=1\n",
    "#     cv2.imwrite(dest+str(i)+'.png',img)\n",
    "\n",
    "# len(images)"
   ]
  },
  {
   "cell_type": "code",
   "execution_count": null,
   "metadata": {},
   "outputs": [],
   "source": []
  }
 ],
 "metadata": {
  "kernelspec": {
   "display_name": "Python 3",
   "language": "python",
   "name": "python3"
  },
  "language_info": {
   "codemirror_mode": {
    "name": "ipython",
    "version": 3
   },
   "file_extension": ".py",
   "mimetype": "text/x-python",
   "name": "python",
   "nbconvert_exporter": "python",
   "pygments_lexer": "ipython3",
   "version": "3.6.12"
  },
  "toc": {
   "base_numbering": 1,
   "nav_menu": {},
   "number_sections": true,
   "sideBar": true,
   "skip_h1_title": false,
   "title_cell": "Table of Contents",
   "title_sidebar": "Contents",
   "toc_cell": false,
   "toc_position": {},
   "toc_section_display": true,
   "toc_window_display": false
  }
 },
 "nbformat": 4,
 "nbformat_minor": 2
}
