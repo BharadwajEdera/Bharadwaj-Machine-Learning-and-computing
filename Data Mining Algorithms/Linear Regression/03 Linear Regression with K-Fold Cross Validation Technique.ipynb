{
 "cells": [
  {
   "cell_type": "markdown",
   "id": "quantitative-shadow",
   "metadata": {},
   "source": [
    "## LINEAR REGRESSION BY USING GRADIENT DESCENT ALGORITHM WITH K FOLD CROSS VALIDATION TECHNIQUE"
   ]
  },
  {
   "cell_type": "markdown",
   "id": "ordered-layer",
   "metadata": {},
   "source": [
    "### Gradient_Descent with KFold"
   ]
  },
  {
   "cell_type": "code",
   "execution_count": 5,
   "id": "hispanic-robertson",
   "metadata": {},
   "outputs": [],
   "source": [
    "\n",
    "def gradient_descent_KFold(x,y,iteration,lr):\n",
    "    \n",
    "    x = np.array(x)\n",
    "    y = np.array(y)\n",
    "    \n",
    "    n=len(x)\n",
    "    \n",
    "    eps = 10** -5\n",
    "    \n",
    "    global w0\n",
    "    w0 = 0\n",
    "    \n",
    "    global w\n",
    "    w = [0]*len(p)\n",
    "    \n",
    "    global iterationlist\n",
    "    iterationlist=[]\n",
    "    \n",
    "    \n",
    "    #global wlist\n",
    "    #wlist=[]\n",
    "    \n",
    "    #global w0list\n",
    "    #w0list=[]\n",
    "    \n",
    "    global jwlist\n",
    "    jwlist=[]\n",
    " \n",
    "    global mse_list\n",
    "    mse_list=[]\n",
    " \n",
    "    \n",
    "    for i in range(iteration):\n",
    "        \n",
    "        iterationlist.append(i)\n",
    "        \n",
    "        global y_pred\n",
    "        y_pred = np.dot(x,w) + w0\n",
    "        \n",
    "        #global jw\n",
    "        jw = (0.5) * np.sum(np.square(y-y_pred))\n",
    "        \n",
    "        global mse\n",
    "        mse = (1/n) * np.sum(np.square(y-y_pred))\n",
    "        mse_list.append(mse)\n",
    "        \n",
    "        jwlist.append(jw)\n",
    "        \n",
    "        w0d =  np.sum(y_pred-y)\n",
    "        \n",
    "        wd =   np.dot((y_pred-y),x)\n",
    "        \n",
    "        \n",
    "        \n",
    "        w = w - lr*np.array(wd)\n",
    "        \n",
    "        #wlist.append(w)\n",
    "        \n",
    "        \n",
    "        \n",
    "        w0 = w0 - lr*np.array(w0d)\n",
    "        \n",
    "        #w0list.append(w0)\n",
    "        \n",
    "        if i== (iteration-1):\n",
    "            #return w0,w\n",
    "            wlist.append(w)\n",
    "            w0list.append(w0)\n",
    "            print( \"w0:{} w:{} Mse:{}\".format(w0,w,mse)  )"
   ]
  },
  {
   "cell_type": "markdown",
   "id": "great-spiritual",
   "metadata": {},
   "source": [
    "### K-Fold Cross_Validation Technique"
   ]
  },
  {
   "cell_type": "markdown",
   "id": "related-paintball",
   "metadata": {},
   "source": [
    "### Function To Train the Model using K-Fold Cross_Validation Technique"
   ]
  },
  {
   "cell_type": "code",
   "execution_count": 6,
   "id": "formed-practice",
   "metadata": {},
   "outputs": [],
   "source": [
    "def KFold_cross_validation_train(df,iteration,lr,k):\n",
    "    print(\" Data Set Lenght : {} \" .format(len(df)))\n",
    "    j=list(df.columns)\n",
    "    \n",
    "    n=len(j)\n",
    "    \n",
    "    global p\n",
    "    p=j[:n-1]\n",
    "    \n",
    "    global xx\n",
    "    #x=np.array(df[p])\n",
    "    xx = df[p]\n",
    "    \n",
    "    global yy\n",
    "    #y=np.array(df[n-1])\n",
    "    yy = df[n-1]\n",
    "    \n",
    "    l = len(df)\n",
    "    \n",
    "    \n",
    "    a=0\n",
    "    \n",
    "    \n",
    "    c= int(l / k)\n",
    "    \n",
    "    b=c\n",
    "    \n",
    "    global w_new_list\n",
    "    w_new_list=[]   \n",
    "\n",
    "    \n",
    "    global wlist\n",
    "    wlist=[]\n",
    "    \n",
    "    global w0list\n",
    "    w0list=[]\n",
    "    \n",
    "    for i in range(k):\n",
    "        x1 = xx[0:a]\n",
    "        x2 = xx[b:l]\n",
    "        y1 = yy[0:a]\n",
    "        y2 = yy[b:l]\n",
    "        x_test = pd.concat([ x1 , x2 ],ignore_index=True)\n",
    "        y_test = pd.concat([ y1 , y2 ],ignore_index=True)\n",
    "        \n",
    "        print(len(x_test))\n",
    "        print(len(y_test))\n",
    "        \n",
    "        gradient_descent_KFold(x_test,y_test,iteration,lr)\n",
    "        \n",
    "        a = a+c\n",
    "        b = b+c\n",
    "    "
   ]
  },
  {
   "cell_type": "markdown",
   "id": "married-beaver",
   "metadata": {},
   "source": [
    "### Function Call To Train the model Using K-Fold Cross_Validation Technique "
   ]
  },
  {
   "cell_type": "markdown",
   "id": "endless-toilet",
   "metadata": {},
   "source": [
    "#### cross_validation_train(Data_Frame_Name , Number_of_iterations , learning_Rate , Number_of_Folds)"
   ]
  },
  {
   "cell_type": "markdown",
   "id": "figured-caribbean",
   "metadata": {},
   "source": [
    "### Function To Test the Model using K-Fold Cross_Validation Technique\n"
   ]
  },
  {
   "cell_type": "code",
   "execution_count": 7,
   "id": "fitting-wings",
   "metadata": {},
   "outputs": [],
   "source": [
    "def KFold_cross_validation_test(df,iteration,lr,k):\n",
    "    \n",
    "    print(\" Data Set Lenght : {} \" .format(len(df)))\n",
    "    \n",
    "    j=list(df.columns)\n",
    "    \n",
    "    n=len(j)\n",
    "    \n",
    "    global p\n",
    "    p=j[:n-1]\n",
    "    \n",
    "    global xx\n",
    "\n",
    "    xx = df[p]\n",
    "    \n",
    "    global yy\n",
    " \n",
    "    yy = df[n-1]\n",
    "    \n",
    "    l = len(df)\n",
    "    \n",
    "    \n",
    "    a=0\n",
    "    \n",
    "    \n",
    "    c= int(l / k)\n",
    "    \n",
    "    b=c\n",
    "    \n",
    "    for i in range(k):\n",
    "        \n",
    "        \n",
    "        print(\" \")\n",
    "        x_train = xx [a:b]\n",
    "        y_train = yy [a:b]\n",
    "        print(\"Lenth of x_train:{}\" .format(len(x_train)))\n",
    "        print(\"Lenth of y_train:{}\" .format(len(y_train)))\n",
    "        \n",
    "        \n",
    "       \n",
    "            \n",
    "        global y_pred\n",
    "        y_pred = wlist[i] * x_train + w0list[i] \n",
    "        y_pred = np.sum(y_pred.T)\n",
    "        a = a+c\n",
    "        b = b+c\n",
    "                #print(y_pred)\n",
    "        print(\" \")            \n",
    "        print(\"For Kth Fold: {} \".format(i))\n",
    "        print(\" \")\n",
    "        for j in range(len(x_train)):\n",
    "            print(\" \")\n",
    "            print(\" y_pred:{} y_train:{}\" .format(y_pred.iloc[j],y_train.iloc[j]))\n",
    "                \n",
    "        #gradient_descent_KFold(x_train,y_train,iteration,lr)\n",
    "        \n",
    "        \n",
    "    \n"
   ]
  },
  {
   "cell_type": "markdown",
   "id": "timely-netherlands",
   "metadata": {},
   "source": [
    "### Function Call To Test the Model using K-Fold Cross_Validation Technique"
   ]
  },
  {
   "cell_type": "markdown",
   "id": "neither-resident",
   "metadata": {},
   "source": [
    "#### cross_validation_test(Data_Frame_Name , Number_of_iterations , learning_Rate , Number_of_Folds)"
   ]
  },
  {
   "cell_type": "code",
   "execution_count": null,
   "id": "married-closure",
   "metadata": {},
   "outputs": [],
   "source": []
  }
 ],
 "metadata": {
  "kernelspec": {
   "display_name": "Python 3",
   "language": "python",
   "name": "python3"
  },
  "language_info": {
   "codemirror_mode": {
    "name": "ipython",
    "version": 3
   },
   "file_extension": ".py",
   "mimetype": "text/x-python",
   "name": "python",
   "nbconvert_exporter": "python",
   "pygments_lexer": "ipython3",
   "version": "3.6.12"
  }
 },
 "nbformat": 4,
 "nbformat_minor": 5
}
