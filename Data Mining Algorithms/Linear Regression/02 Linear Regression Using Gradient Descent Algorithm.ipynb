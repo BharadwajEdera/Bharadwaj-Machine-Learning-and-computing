{
 "cells": [
  {
   "cell_type": "markdown",
   "id": "killing-prize",
   "metadata": {},
   "source": [
    "# CODE"
   ]
  },
  {
   "cell_type": "markdown",
   "id": "short-stanford",
   "metadata": {},
   "source": [
    "## LINEAR REGRESSION CODE USNIG GRADIENT DESCENT ALGORITHM"
   ]
  },
  {
   "cell_type": "code",
   "execution_count": 4,
   "id": "confused-tulsa",
   "metadata": {},
   "outputs": [],
   "source": [
    "def gradient_descent(df,iteration,lr):\n",
    "    \n",
    "    k=list(df.columns)\n",
    "    \n",
    "    n=len(k)\n",
    "    \n",
    "    p=k[:n-1]\n",
    "    \n",
    "    global x\n",
    "    x=np.array(df[p])\n",
    "    \n",
    "    global y\n",
    "    y=np.array(df[n-1])\n",
    "    \n",
    "    eps = 10** -4\n",
    "    \n",
    "    global w0\n",
    "    w0 = 0\n",
    "    \n",
    "    global w\n",
    "    w = [0]*len(p)\n",
    "    \n",
    "    global iterationlist\n",
    "    iterationlist=[]\n",
    "    \n",
    "    \n",
    "    global wlist\n",
    "    wlist=[]\n",
    "    \n",
    "    global w0list\n",
    "    w0list=[]\n",
    "    \n",
    "    global jwlist\n",
    "    jwlist=[]\n",
    " \n",
    "    global mse_list\n",
    "    mse_list=[]\n",
    " \n",
    "    \n",
    "    for i in range(iteration):\n",
    "        \n",
    "        iterationlist.append(i)\n",
    "        \n",
    "        global y_pred\n",
    "        y_pred = np.dot(x,w) + w0\n",
    "        \n",
    "        #global jw\n",
    "        jw = (0.5) * np.sum(np.square(y-y_pred))\n",
    "        \n",
    "        #global mse\n",
    "        mse = (1/(len(df))) * np.sum(np.square(y-y_pred))\n",
    "        mse_list.append(mse)\n",
    "        \n",
    "        jwlist.append(jw)\n",
    "        \n",
    "        w0d =  np.sum(y_pred-y)\n",
    "        \n",
    "        wd =   np.dot((y_pred-y),x)\n",
    "        \n",
    "        \n",
    "        \n",
    "        w = w - lr*np.array(wd)\n",
    "        \n",
    "        wlist.append(w)\n",
    "        \n",
    "        \n",
    "        \n",
    "        w0 = w0 - lr*np.array(w0d)\n",
    "        \n",
    "        w0list.append(w0)\n",
    "        \n",
    "        std1=np.std(y-y_pred)\n",
    "        \n",
    "        if i== (iteration-1):\n",
    "            #print(\"w0:{} w:{} mse:{}\".format(w0,w,mse))\n",
    "            return w0,w,mse,std1"
   ]
  },
  {
   "cell_type": "code",
   "execution_count": null,
   "id": "stretch-monkey",
   "metadata": {},
   "outputs": [],
   "source": []
  },
  {
   "cell_type": "code",
   "execution_count": null,
   "id": "welsh-hundred",
   "metadata": {},
   "outputs": [],
   "source": []
  },
  {
   "cell_type": "code",
   "execution_count": null,
   "id": "improved-cycle",
   "metadata": {},
   "outputs": [],
   "source": []
  },
  {
   "cell_type": "code",
   "execution_count": null,
   "id": "indoor-florist",
   "metadata": {},
   "outputs": [],
   "source": []
  }
 ],
 "metadata": {
  "kernelspec": {
   "display_name": "Python 3",
   "language": "python",
   "name": "python3"
  },
  "language_info": {
   "codemirror_mode": {
    "name": "ipython",
    "version": 3
   },
   "file_extension": ".py",
   "mimetype": "text/x-python",
   "name": "python",
   "nbconvert_exporter": "python",
   "pygments_lexer": "ipython3",
   "version": "3.6.12"
  }
 },
 "nbformat": 4,
 "nbformat_minor": 5
}
