{
 "cells": [
  {
   "cell_type": "markdown",
   "id": "minor-wonder",
   "metadata": {},
   "source": [
    "## Hold_Out Cross Validation techniques"
   ]
  },
  {
   "cell_type": "code",
   "execution_count": 10,
   "id": "spectacular-liberia",
   "metadata": {},
   "outputs": [],
   "source": [
    "def holdout_method(df,iteration,alpha): # holdout method algorithm ,spliting the 80% data into training and iterating it 30 times\n",
    "    msecollect=[]\n",
    "    iteration=iteration\n",
    "    learning_rate=alpha\n",
    "    \n",
    "    for i in range(30):\n",
    "            df=df.sample(frac=1)\n",
    "            df1=df[0:int(0.8*len(df))]\n",
    "            gradient_descent(df1,iteration,learning_rate)\n",
    "            msecollect.append(mse)\n",
    "    sum2=np.sum(msecollect) \n",
    "    avgmse=sum2/len(msecollect)\n",
    "    print(avgmse)    \n",
    "        "
   ]
  },
  {
   "cell_type": "code",
   "execution_count": null,
   "id": "geographic-parcel",
   "metadata": {},
   "outputs": [],
   "source": []
  }
 ],
 "metadata": {
  "kernelspec": {
   "display_name": "Python 3",
   "language": "python",
   "name": "python3"
  },
  "language_info": {
   "codemirror_mode": {
    "name": "ipython",
    "version": 3
   },
   "file_extension": ".py",
   "mimetype": "text/x-python",
   "name": "python",
   "nbconvert_exporter": "python",
   "pygments_lexer": "ipython3",
   "version": "3.6.12"
  }
 },
 "nbformat": 4,
 "nbformat_minor": 5
}
