{
 "cells": [
  {
   "cell_type": "markdown",
   "id": "acquired-customs",
   "metadata": {},
   "source": [
    "# Max Min Normalization"
   ]
  },
  {
   "cell_type": "code",
   "execution_count": 9,
   "id": "detailed-bosnia",
   "metadata": {},
   "outputs": [],
   "source": [
    "def normalisation(df):\n",
    "\n",
    "   \n",
    "    for i in df.columns:\n",
    "        pmax=max(df[i])\n",
    "        pmin=min(df[i])\n",
    "        df[i]= np.array((df[i]-pmin)/(pmax-pmin))\n",
    "   \n",
    "  \n",
    "    return df"
   ]
  },
  {
   "cell_type": "code",
   "execution_count": null,
   "id": "talented-feeding",
   "metadata": {},
   "outputs": [],
   "source": []
  }
 ],
 "metadata": {
  "kernelspec": {
   "display_name": "Python 3",
   "language": "python",
   "name": "python3"
  },
  "language_info": {
   "codemirror_mode": {
    "name": "ipython",
    "version": 3
   },
   "file_extension": ".py",
   "mimetype": "text/x-python",
   "name": "python",
   "nbconvert_exporter": "python",
   "pygments_lexer": "ipython3",
   "version": "3.6.12"
  }
 },
 "nbformat": 4,
 "nbformat_minor": 5
}
