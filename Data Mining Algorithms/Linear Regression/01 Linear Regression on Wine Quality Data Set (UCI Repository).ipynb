{
 "cells": [
  {
   "cell_type": "markdown",
   "id": "front-amino",
   "metadata": {},
   "source": [
    "## Ques:4. Analyze Wine quality data set using linear regression (download data from UCI web repository)"
   ]
  },
  {
   "cell_type": "code",
   "execution_count": null,
   "id": "municipal-restriction",
   "metadata": {},
   "outputs": [],
   "source": []
  },
  {
   "cell_type": "markdown",
   "id": "proprietary-flour",
   "metadata": {},
   "source": [
    "### (a) Analyze the data with normalization and without normalization."
   ]
  },
  {
   "cell_type": "code",
   "execution_count": 202,
   "id": "bulgarian-blake",
   "metadata": {},
   "outputs": [
    {
     "data": {
      "text/html": [
       "<div>\n",
       "<style scoped>\n",
       "    .dataframe tbody tr th:only-of-type {\n",
       "        vertical-align: middle;\n",
       "    }\n",
       "\n",
       "    .dataframe tbody tr th {\n",
       "        vertical-align: top;\n",
       "    }\n",
       "\n",
       "    .dataframe thead th {\n",
       "        text-align: right;\n",
       "    }\n",
       "</style>\n",
       "<table border=\"1\" class=\"dataframe\">\n",
       "  <thead>\n",
       "    <tr style=\"text-align: right;\">\n",
       "      <th></th>\n",
       "      <th>0</th>\n",
       "      <th>1</th>\n",
       "      <th>2</th>\n",
       "      <th>3</th>\n",
       "      <th>4</th>\n",
       "      <th>5</th>\n",
       "      <th>6</th>\n",
       "      <th>7</th>\n",
       "      <th>8</th>\n",
       "      <th>9</th>\n",
       "      <th>10</th>\n",
       "      <th>11</th>\n",
       "    </tr>\n",
       "  </thead>\n",
       "  <tbody>\n",
       "    <tr>\n",
       "      <th>0</th>\n",
       "      <td>7.4</td>\n",
       "      <td>0.700</td>\n",
       "      <td>0.00</td>\n",
       "      <td>1.9</td>\n",
       "      <td>0.076</td>\n",
       "      <td>11.0</td>\n",
       "      <td>34.0</td>\n",
       "      <td>0.99780</td>\n",
       "      <td>3.51</td>\n",
       "      <td>0.56</td>\n",
       "      <td>9.4</td>\n",
       "      <td>5</td>\n",
       "    </tr>\n",
       "    <tr>\n",
       "      <th>1</th>\n",
       "      <td>7.8</td>\n",
       "      <td>0.880</td>\n",
       "      <td>0.00</td>\n",
       "      <td>2.6</td>\n",
       "      <td>0.098</td>\n",
       "      <td>25.0</td>\n",
       "      <td>67.0</td>\n",
       "      <td>0.99680</td>\n",
       "      <td>3.20</td>\n",
       "      <td>0.68</td>\n",
       "      <td>9.8</td>\n",
       "      <td>5</td>\n",
       "    </tr>\n",
       "    <tr>\n",
       "      <th>2</th>\n",
       "      <td>7.8</td>\n",
       "      <td>0.760</td>\n",
       "      <td>0.04</td>\n",
       "      <td>2.3</td>\n",
       "      <td>0.092</td>\n",
       "      <td>15.0</td>\n",
       "      <td>54.0</td>\n",
       "      <td>0.99700</td>\n",
       "      <td>3.26</td>\n",
       "      <td>0.65</td>\n",
       "      <td>9.8</td>\n",
       "      <td>5</td>\n",
       "    </tr>\n",
       "    <tr>\n",
       "      <th>3</th>\n",
       "      <td>11.2</td>\n",
       "      <td>0.280</td>\n",
       "      <td>0.56</td>\n",
       "      <td>1.9</td>\n",
       "      <td>0.075</td>\n",
       "      <td>17.0</td>\n",
       "      <td>60.0</td>\n",
       "      <td>0.99800</td>\n",
       "      <td>3.16</td>\n",
       "      <td>0.58</td>\n",
       "      <td>9.8</td>\n",
       "      <td>6</td>\n",
       "    </tr>\n",
       "    <tr>\n",
       "      <th>4</th>\n",
       "      <td>7.4</td>\n",
       "      <td>0.700</td>\n",
       "      <td>0.00</td>\n",
       "      <td>1.9</td>\n",
       "      <td>0.076</td>\n",
       "      <td>11.0</td>\n",
       "      <td>34.0</td>\n",
       "      <td>0.99780</td>\n",
       "      <td>3.51</td>\n",
       "      <td>0.56</td>\n",
       "      <td>9.4</td>\n",
       "      <td>5</td>\n",
       "    </tr>\n",
       "    <tr>\n",
       "      <th>...</th>\n",
       "      <td>...</td>\n",
       "      <td>...</td>\n",
       "      <td>...</td>\n",
       "      <td>...</td>\n",
       "      <td>...</td>\n",
       "      <td>...</td>\n",
       "      <td>...</td>\n",
       "      <td>...</td>\n",
       "      <td>...</td>\n",
       "      <td>...</td>\n",
       "      <td>...</td>\n",
       "      <td>...</td>\n",
       "    </tr>\n",
       "    <tr>\n",
       "      <th>1594</th>\n",
       "      <td>6.2</td>\n",
       "      <td>0.600</td>\n",
       "      <td>0.08</td>\n",
       "      <td>2.0</td>\n",
       "      <td>0.090</td>\n",
       "      <td>32.0</td>\n",
       "      <td>44.0</td>\n",
       "      <td>0.99490</td>\n",
       "      <td>3.45</td>\n",
       "      <td>0.58</td>\n",
       "      <td>10.5</td>\n",
       "      <td>5</td>\n",
       "    </tr>\n",
       "    <tr>\n",
       "      <th>1595</th>\n",
       "      <td>5.9</td>\n",
       "      <td>0.550</td>\n",
       "      <td>0.10</td>\n",
       "      <td>2.2</td>\n",
       "      <td>0.062</td>\n",
       "      <td>39.0</td>\n",
       "      <td>51.0</td>\n",
       "      <td>0.99512</td>\n",
       "      <td>3.52</td>\n",
       "      <td>0.76</td>\n",
       "      <td>11.2</td>\n",
       "      <td>6</td>\n",
       "    </tr>\n",
       "    <tr>\n",
       "      <th>1596</th>\n",
       "      <td>6.3</td>\n",
       "      <td>0.510</td>\n",
       "      <td>0.13</td>\n",
       "      <td>2.3</td>\n",
       "      <td>0.076</td>\n",
       "      <td>29.0</td>\n",
       "      <td>40.0</td>\n",
       "      <td>0.99574</td>\n",
       "      <td>3.42</td>\n",
       "      <td>0.75</td>\n",
       "      <td>11.0</td>\n",
       "      <td>6</td>\n",
       "    </tr>\n",
       "    <tr>\n",
       "      <th>1597</th>\n",
       "      <td>5.9</td>\n",
       "      <td>0.645</td>\n",
       "      <td>0.12</td>\n",
       "      <td>2.0</td>\n",
       "      <td>0.075</td>\n",
       "      <td>32.0</td>\n",
       "      <td>44.0</td>\n",
       "      <td>0.99547</td>\n",
       "      <td>3.57</td>\n",
       "      <td>0.71</td>\n",
       "      <td>10.2</td>\n",
       "      <td>5</td>\n",
       "    </tr>\n",
       "    <tr>\n",
       "      <th>1598</th>\n",
       "      <td>6.0</td>\n",
       "      <td>0.310</td>\n",
       "      <td>0.47</td>\n",
       "      <td>3.6</td>\n",
       "      <td>0.067</td>\n",
       "      <td>18.0</td>\n",
       "      <td>42.0</td>\n",
       "      <td>0.99549</td>\n",
       "      <td>3.39</td>\n",
       "      <td>0.66</td>\n",
       "      <td>11.0</td>\n",
       "      <td>6</td>\n",
       "    </tr>\n",
       "  </tbody>\n",
       "</table>\n",
       "<p>1599 rows × 12 columns</p>\n",
       "</div>"
      ],
      "text/plain": [
       "        0      1     2    3      4     5     6        7     8     9     10  11\n",
       "0      7.4  0.700  0.00  1.9  0.076  11.0  34.0  0.99780  3.51  0.56   9.4   5\n",
       "1      7.8  0.880  0.00  2.6  0.098  25.0  67.0  0.99680  3.20  0.68   9.8   5\n",
       "2      7.8  0.760  0.04  2.3  0.092  15.0  54.0  0.99700  3.26  0.65   9.8   5\n",
       "3     11.2  0.280  0.56  1.9  0.075  17.0  60.0  0.99800  3.16  0.58   9.8   6\n",
       "4      7.4  0.700  0.00  1.9  0.076  11.0  34.0  0.99780  3.51  0.56   9.4   5\n",
       "...    ...    ...   ...  ...    ...   ...   ...      ...   ...   ...   ...  ..\n",
       "1594   6.2  0.600  0.08  2.0  0.090  32.0  44.0  0.99490  3.45  0.58  10.5   5\n",
       "1595   5.9  0.550  0.10  2.2  0.062  39.0  51.0  0.99512  3.52  0.76  11.2   6\n",
       "1596   6.3  0.510  0.13  2.3  0.076  29.0  40.0  0.99574  3.42  0.75  11.0   6\n",
       "1597   5.9  0.645  0.12  2.0  0.075  32.0  44.0  0.99547  3.57  0.71  10.2   5\n",
       "1598   6.0  0.310  0.47  3.6  0.067  18.0  42.0  0.99549  3.39  0.66  11.0   6\n",
       "\n",
       "[1599 rows x 12 columns]"
      ]
     },
     "execution_count": 202,
     "metadata": {},
     "output_type": "execute_result"
    }
   ],
   "source": [
    "df6 =pd.read_csv('winequality.csv',header=None,skiprows=1)\n",
    "df6\n"
   ]
  },
  {
   "cell_type": "code",
   "execution_count": 226,
   "id": "innocent-engineer",
   "metadata": {},
   "outputs": [
    {
     "data": {
      "text/plain": [
       "(0.5407800555554853,\n",
       " array([ 0.06718371, -0.31701839, -0.03782658,  0.05227645, -0.22075078,\n",
       "         0.06064083, -0.18238542, -0.05836576, -0.09727041,  0.30699806,\n",
       "         0.35491125]),\n",
       " 0.016671086676918086)"
      ]
     },
     "execution_count": 226,
     "metadata": {},
     "output_type": "execute_result"
    }
   ],
   "source": [
    "gradient_descent(df6,10000,0.0001)"
   ]
  },
  {
   "cell_type": "code",
   "execution_count": 229,
   "id": "employed-arctic",
   "metadata": {},
   "outputs": [
    {
     "name": "stdout",
     "output_type": "stream",
     "text": [
      "0.016905940702166767\n"
     ]
    }
   ],
   "source": [
    "avg_mse=np.mean(mse_list)\n",
    "print(avg_mse)"
   ]
  },
  {
   "cell_type": "code",
   "execution_count": 230,
   "id": "laughing-amazon",
   "metadata": {},
   "outputs": [
    {
     "data": {
      "text/plain": [
       "0.1291165623302685"
      ]
     },
     "execution_count": 230,
     "metadata": {},
     "output_type": "execute_result"
    }
   ],
   "source": [
    "np.std(y-y_pred)"
   ]
  },
  {
   "cell_type": "code",
   "execution_count": 231,
   "id": "northern-transsexual",
   "metadata": {},
   "outputs": [
    {
     "data": {
      "text/html": [
       "<div>\n",
       "<style scoped>\n",
       "    .dataframe tbody tr th:only-of-type {\n",
       "        vertical-align: middle;\n",
       "    }\n",
       "\n",
       "    .dataframe tbody tr th {\n",
       "        vertical-align: top;\n",
       "    }\n",
       "\n",
       "    .dataframe thead th {\n",
       "        text-align: right;\n",
       "    }\n",
       "</style>\n",
       "<table border=\"1\" class=\"dataframe\">\n",
       "  <thead>\n",
       "    <tr style=\"text-align: right;\">\n",
       "      <th></th>\n",
       "      <th>0</th>\n",
       "      <th>1</th>\n",
       "      <th>2</th>\n",
       "      <th>3</th>\n",
       "      <th>4</th>\n",
       "      <th>5</th>\n",
       "      <th>6</th>\n",
       "      <th>7</th>\n",
       "      <th>8</th>\n",
       "      <th>9</th>\n",
       "      <th>10</th>\n",
       "      <th>11</th>\n",
       "    </tr>\n",
       "  </thead>\n",
       "  <tbody>\n",
       "    <tr>\n",
       "      <th>0</th>\n",
       "      <td>0.247788</td>\n",
       "      <td>0.397260</td>\n",
       "      <td>0.00</td>\n",
       "      <td>0.068493</td>\n",
       "      <td>0.106845</td>\n",
       "      <td>0.140845</td>\n",
       "      <td>0.098940</td>\n",
       "      <td>0.567548</td>\n",
       "      <td>0.606299</td>\n",
       "      <td>0.137725</td>\n",
       "      <td>0.153846</td>\n",
       "      <td>0.4</td>\n",
       "    </tr>\n",
       "    <tr>\n",
       "      <th>1</th>\n",
       "      <td>0.283186</td>\n",
       "      <td>0.520548</td>\n",
       "      <td>0.00</td>\n",
       "      <td>0.116438</td>\n",
       "      <td>0.143573</td>\n",
       "      <td>0.338028</td>\n",
       "      <td>0.215548</td>\n",
       "      <td>0.494126</td>\n",
       "      <td>0.362205</td>\n",
       "      <td>0.209581</td>\n",
       "      <td>0.215385</td>\n",
       "      <td>0.4</td>\n",
       "    </tr>\n",
       "    <tr>\n",
       "      <th>2</th>\n",
       "      <td>0.283186</td>\n",
       "      <td>0.438356</td>\n",
       "      <td>0.04</td>\n",
       "      <td>0.095890</td>\n",
       "      <td>0.133556</td>\n",
       "      <td>0.197183</td>\n",
       "      <td>0.169611</td>\n",
       "      <td>0.508811</td>\n",
       "      <td>0.409449</td>\n",
       "      <td>0.191617</td>\n",
       "      <td>0.215385</td>\n",
       "      <td>0.4</td>\n",
       "    </tr>\n",
       "    <tr>\n",
       "      <th>3</th>\n",
       "      <td>0.584071</td>\n",
       "      <td>0.109589</td>\n",
       "      <td>0.56</td>\n",
       "      <td>0.068493</td>\n",
       "      <td>0.105175</td>\n",
       "      <td>0.225352</td>\n",
       "      <td>0.190813</td>\n",
       "      <td>0.582232</td>\n",
       "      <td>0.330709</td>\n",
       "      <td>0.149701</td>\n",
       "      <td>0.215385</td>\n",
       "      <td>0.6</td>\n",
       "    </tr>\n",
       "    <tr>\n",
       "      <th>4</th>\n",
       "      <td>0.247788</td>\n",
       "      <td>0.397260</td>\n",
       "      <td>0.00</td>\n",
       "      <td>0.068493</td>\n",
       "      <td>0.106845</td>\n",
       "      <td>0.140845</td>\n",
       "      <td>0.098940</td>\n",
       "      <td>0.567548</td>\n",
       "      <td>0.606299</td>\n",
       "      <td>0.137725</td>\n",
       "      <td>0.153846</td>\n",
       "      <td>0.4</td>\n",
       "    </tr>\n",
       "    <tr>\n",
       "      <th>...</th>\n",
       "      <td>...</td>\n",
       "      <td>...</td>\n",
       "      <td>...</td>\n",
       "      <td>...</td>\n",
       "      <td>...</td>\n",
       "      <td>...</td>\n",
       "      <td>...</td>\n",
       "      <td>...</td>\n",
       "      <td>...</td>\n",
       "      <td>...</td>\n",
       "      <td>...</td>\n",
       "      <td>...</td>\n",
       "    </tr>\n",
       "    <tr>\n",
       "      <th>1594</th>\n",
       "      <td>0.141593</td>\n",
       "      <td>0.328767</td>\n",
       "      <td>0.08</td>\n",
       "      <td>0.075342</td>\n",
       "      <td>0.130217</td>\n",
       "      <td>0.436620</td>\n",
       "      <td>0.134276</td>\n",
       "      <td>0.354626</td>\n",
       "      <td>0.559055</td>\n",
       "      <td>0.149701</td>\n",
       "      <td>0.323077</td>\n",
       "      <td>0.4</td>\n",
       "    </tr>\n",
       "    <tr>\n",
       "      <th>1595</th>\n",
       "      <td>0.115044</td>\n",
       "      <td>0.294521</td>\n",
       "      <td>0.10</td>\n",
       "      <td>0.089041</td>\n",
       "      <td>0.083472</td>\n",
       "      <td>0.535211</td>\n",
       "      <td>0.159011</td>\n",
       "      <td>0.370778</td>\n",
       "      <td>0.614173</td>\n",
       "      <td>0.257485</td>\n",
       "      <td>0.430769</td>\n",
       "      <td>0.6</td>\n",
       "    </tr>\n",
       "    <tr>\n",
       "      <th>1596</th>\n",
       "      <td>0.150442</td>\n",
       "      <td>0.267123</td>\n",
       "      <td>0.13</td>\n",
       "      <td>0.095890</td>\n",
       "      <td>0.106845</td>\n",
       "      <td>0.394366</td>\n",
       "      <td>0.120141</td>\n",
       "      <td>0.416300</td>\n",
       "      <td>0.535433</td>\n",
       "      <td>0.251497</td>\n",
       "      <td>0.400000</td>\n",
       "      <td>0.6</td>\n",
       "    </tr>\n",
       "    <tr>\n",
       "      <th>1597</th>\n",
       "      <td>0.115044</td>\n",
       "      <td>0.359589</td>\n",
       "      <td>0.12</td>\n",
       "      <td>0.075342</td>\n",
       "      <td>0.105175</td>\n",
       "      <td>0.436620</td>\n",
       "      <td>0.134276</td>\n",
       "      <td>0.396476</td>\n",
       "      <td>0.653543</td>\n",
       "      <td>0.227545</td>\n",
       "      <td>0.276923</td>\n",
       "      <td>0.4</td>\n",
       "    </tr>\n",
       "    <tr>\n",
       "      <th>1598</th>\n",
       "      <td>0.123894</td>\n",
       "      <td>0.130137</td>\n",
       "      <td>0.47</td>\n",
       "      <td>0.184932</td>\n",
       "      <td>0.091820</td>\n",
       "      <td>0.239437</td>\n",
       "      <td>0.127208</td>\n",
       "      <td>0.397944</td>\n",
       "      <td>0.511811</td>\n",
       "      <td>0.197605</td>\n",
       "      <td>0.400000</td>\n",
       "      <td>0.6</td>\n",
       "    </tr>\n",
       "  </tbody>\n",
       "</table>\n",
       "<p>1599 rows × 12 columns</p>\n",
       "</div>"
      ],
      "text/plain": [
       "            0         1     2         3         4         5         6   \\\n",
       "0     0.247788  0.397260  0.00  0.068493  0.106845  0.140845  0.098940   \n",
       "1     0.283186  0.520548  0.00  0.116438  0.143573  0.338028  0.215548   \n",
       "2     0.283186  0.438356  0.04  0.095890  0.133556  0.197183  0.169611   \n",
       "3     0.584071  0.109589  0.56  0.068493  0.105175  0.225352  0.190813   \n",
       "4     0.247788  0.397260  0.00  0.068493  0.106845  0.140845  0.098940   \n",
       "...        ...       ...   ...       ...       ...       ...       ...   \n",
       "1594  0.141593  0.328767  0.08  0.075342  0.130217  0.436620  0.134276   \n",
       "1595  0.115044  0.294521  0.10  0.089041  0.083472  0.535211  0.159011   \n",
       "1596  0.150442  0.267123  0.13  0.095890  0.106845  0.394366  0.120141   \n",
       "1597  0.115044  0.359589  0.12  0.075342  0.105175  0.436620  0.134276   \n",
       "1598  0.123894  0.130137  0.47  0.184932  0.091820  0.239437  0.127208   \n",
       "\n",
       "            7         8         9         10   11  \n",
       "0     0.567548  0.606299  0.137725  0.153846  0.4  \n",
       "1     0.494126  0.362205  0.209581  0.215385  0.4  \n",
       "2     0.508811  0.409449  0.191617  0.215385  0.4  \n",
       "3     0.582232  0.330709  0.149701  0.215385  0.6  \n",
       "4     0.567548  0.606299  0.137725  0.153846  0.4  \n",
       "...        ...       ...       ...       ...  ...  \n",
       "1594  0.354626  0.559055  0.149701  0.323077  0.4  \n",
       "1595  0.370778  0.614173  0.257485  0.430769  0.6  \n",
       "1596  0.416300  0.535433  0.251497  0.400000  0.6  \n",
       "1597  0.396476  0.653543  0.227545  0.276923  0.4  \n",
       "1598  0.397944  0.511811  0.197605  0.400000  0.6  \n",
       "\n",
       "[1599 rows x 12 columns]"
      ]
     },
     "execution_count": 231,
     "metadata": {},
     "output_type": "execute_result"
    }
   ],
   "source": [
    "df6_normalized=normalisation(df6)\n",
    "df6_normalized"
   ]
  },
  {
   "cell_type": "code",
   "execution_count": 232,
   "id": "capital-salad",
   "metadata": {},
   "outputs": [
    {
     "data": {
      "text/plain": [
       "(0.5407800555554853,\n",
       " array([ 0.06718371, -0.31701839, -0.03782658,  0.05227645, -0.22075078,\n",
       "         0.06064083, -0.18238542, -0.05836576, -0.09727041,  0.30699806,\n",
       "         0.35491125]),\n",
       " 0.016671086676918086)"
      ]
     },
     "execution_count": 232,
     "metadata": {},
     "output_type": "execute_result"
    }
   ],
   "source": [
    "gradient_descent(df6_normalized,10000,0.0001)"
   ]
  },
  {
   "cell_type": "code",
   "execution_count": 233,
   "id": "pediatric-confidentiality",
   "metadata": {},
   "outputs": [
    {
     "name": "stdout",
     "output_type": "stream",
     "text": [
      "0.016905940702166767\n"
     ]
    }
   ],
   "source": [
    "avg_mse=np.mean(mse_list)\n",
    "print(avg_mse)"
   ]
  },
  {
   "cell_type": "code",
   "execution_count": 234,
   "id": "pretty-electronics",
   "metadata": {},
   "outputs": [
    {
     "data": {
      "text/plain": [
       "0.1291165623302685"
      ]
     },
     "execution_count": 234,
     "metadata": {},
     "output_type": "execute_result"
    }
   ],
   "source": [
    "np.std(y-y_pred)"
   ]
  },
  {
   "cell_type": "code",
   "execution_count": null,
   "id": "mechanical-glass",
   "metadata": {},
   "outputs": [],
   "source": []
  },
  {
   "cell_type": "markdown",
   "id": "conventional-annual",
   "metadata": {},
   "source": [
    "### (b) Describe how you applied normalization techniques on training and testing data."
   ]
  },
  {
   "cell_type": "markdown",
   "id": "going-winner",
   "metadata": {},
   "source": [
    "### From the given Data Set  Found the max , min for each and every column and stored them in variables pmax , pmin\n",
    "### Now divide the data set into training data and testing data\n",
    "### Now apply normalization seperately for both traning and testing data with the help of pmax and pmin\n",
    "def normalisation(df):\n",
    "\n",
    "   \n",
    "    for i in df.columns:\n",
    "        pmax=max(df[i])\n",
    "        pmin=min(df[i])\n",
    "        df[i]= np.array((df[i]-pmin)/(pmax-pmin))\n",
    "   \n",
    "  \n",
    "    return df\n"
   ]
  },
  {
   "cell_type": "code",
   "execution_count": null,
   "id": "attempted-matrix",
   "metadata": {},
   "outputs": [],
   "source": []
  },
  {
   "cell_type": "code",
   "execution_count": null,
   "id": "sealed-leonard",
   "metadata": {},
   "outputs": [],
   "source": []
  },
  {
   "cell_type": "markdown",
   "id": "grand-compatibility",
   "metadata": {},
   "source": [
    "### (c) Apply k fold cross validation and hold out method.\n"
   ]
  },
  {
   "cell_type": "markdown",
   "id": "textile-deposit",
   "metadata": {},
   "source": [
    "## K_Fold Cross Validation Technique"
   ]
  },
  {
   "cell_type": "code",
   "execution_count": 251,
   "id": "cross-accounting",
   "metadata": {},
   "outputs": [
    {
     "name": "stdout",
     "output_type": "stream",
     "text": [
      " Data Set Lenght : 1599 \n",
      "1280\n",
      "1280\n",
      "w0:0.06094671458116376 w:[0.02065262 0.01579005 0.01789505 0.00692555 0.00721473 0.01276403\n",
      " 0.00782086 0.02889846 0.02709044 0.01233356 0.02192146] Mse:0.2024814645280697\n",
      "1280\n",
      "1280\n",
      "w0:0.05922424928606754 w:[0.01776958 0.01574372 0.0148557  0.00631152 0.00719641 0.0124768\n",
      " 0.00809392 0.02668626 0.02738947 0.01173219 0.02003132] Mse:0.19310459562774823\n",
      "1280\n",
      "1280\n",
      "w0:0.0601648480417416 w:[0.02015146 0.01572017 0.01757305 0.00676811 0.00739068 0.0125346\n",
      " 0.00821757 0.02887484 0.02665666 0.01257963 0.02037238] Mse:0.19693923442069022\n",
      "1280\n",
      "1280\n",
      "w0:0.05821380502616128 w:[0.01989397 0.01578958 0.01656865 0.00668128 0.00724503 0.01190881\n",
      " 0.00815934 0.0293612  0.02615363 0.01209478 0.01836876] Mse:0.18521939643978919\n",
      "1280\n",
      "1280\n",
      "w0:0.06032254262033572 w:[0.02157634 0.01552417 0.0183055  0.00688993 0.00751954 0.01210799\n",
      " 0.00816103 0.02992801 0.02646773 0.01252799 0.02031071] Mse:0.1978345358060857\n"
     ]
    }
   ],
   "source": [
    "KFold_cross_validation_train(df6,10000,0.00000001,5)"
   ]
  },
  {
   "cell_type": "markdown",
   "id": "boxed-advocate",
   "metadata": {},
   "source": [
    "## Hold Out Cross Validation Technique"
   ]
  },
  {
   "cell_type": "code",
   "execution_count": 295,
   "id": "adopted-henry",
   "metadata": {},
   "outputs": [
    {
     "name": "stdout",
     "output_type": "stream",
     "text": [
      "0.19783453580608576\n"
     ]
    }
   ],
   "source": [
    "holdout_method(df6,10000,0.00000001)"
   ]
  },
  {
   "cell_type": "code",
   "execution_count": 298,
   "id": "dressed-certificate",
   "metadata": {},
   "outputs": [
    {
     "data": {
      "text/plain": [
       "(0.07251103749640575,\n",
       " array([0.02428294, 0.01902749, 0.02068955, 0.00814059, 0.00886271,\n",
       "        0.01497106, 0.00979363, 0.03484802, 0.03244248, 0.01487617,\n",
       "        0.02455769]),\n",
       " 0.17550495807372465,\n",
       " 0.1604598318267509)"
      ]
     },
     "execution_count": 298,
     "metadata": {},
     "output_type": "execute_result"
    }
   ],
   "source": [
    "gradient_descent(df6,10000,0.00000001)"
   ]
  },
  {
   "cell_type": "markdown",
   "id": "designing-beginning",
   "metadata": {},
   "source": [
    "####  Mean Square error for\n",
    "#### K_fold Cross validation is 0.17550495807372465\n",
    "\n",
    "#### Hold out Cross validation is 0.19783453580608576"
   ]
  },
  {
   "cell_type": "markdown",
   "id": "cooperative-accountability",
   "metadata": {},
   "source": [
    "### (d) Assess the performance of the model.\n"
   ]
  },
  {
   "cell_type": "code",
   "execution_count": 297,
   "id": "nonprofit-franklin",
   "metadata": {},
   "outputs": [
    {
     "data": {
      "text/plain": [
       "(0.5407800555554853,\n",
       " array([ 0.06718371, -0.31701839, -0.03782658,  0.05227645, -0.22075078,\n",
       "         0.06064083, -0.18238542, -0.05836576, -0.09727041,  0.30699806,\n",
       "         0.35491125]),\n",
       " 0.016671086676918086,\n",
       " 0.1291165623302685)"
      ]
     },
     "execution_count": 297,
     "metadata": {},
     "output_type": "execute_result"
    }
   ],
   "source": [
    "gradient_descent(df6,10000,0.0001)"
   ]
  },
  {
   "cell_type": "code",
   "execution_count": 255,
   "id": "unavailable-maine",
   "metadata": {},
   "outputs": [
    {
     "name": "stdout",
     "output_type": "stream",
     "text": [
      "0.016905940702166767\n"
     ]
    }
   ],
   "source": [
    "avg_mse=np.mean(mse_list)\n",
    "print(avg_mse)"
   ]
  },
  {
   "cell_type": "code",
   "execution_count": 256,
   "id": "several-injection",
   "metadata": {},
   "outputs": [
    {
     "data": {
      "text/plain": [
       "0.1291165623302685"
      ]
     },
     "execution_count": 256,
     "metadata": {},
     "output_type": "execute_result"
    }
   ],
   "source": [
    "np.std(y-y_pred)"
   ]
  },
  {
   "cell_type": "markdown",
   "id": "burning-sunday",
   "metadata": {},
   "source": [
    "### (e) Report search space & the values of the hyperparameters and the parameters of the model.\n"
   ]
  },
  {
   "cell_type": "markdown",
   "id": "responsible-baptist",
   "metadata": {},
   "source": [
    "### hyperparameter 10^-4"
   ]
  },
  {
   "cell_type": "code",
   "execution_count": 257,
   "id": "endangered-inquiry",
   "metadata": {},
   "outputs": [
    {
     "data": {
      "text/plain": [
       "(0.5407800555554853,\n",
       " array([ 0.06718371, -0.31701839, -0.03782658,  0.05227645, -0.22075078,\n",
       "         0.06064083, -0.18238542, -0.05836576, -0.09727041,  0.30699806,\n",
       "         0.35491125]),\n",
       " 0.016671086676918086)"
      ]
     },
     "execution_count": 257,
     "metadata": {},
     "output_type": "execute_result"
    }
   ],
   "source": [
    "gradient_descent(df6,10000,0.0001)"
   ]
  },
  {
   "cell_type": "markdown",
   "id": "flexible-supplier",
   "metadata": {},
   "source": [
    "### hyperparameter 10^-5"
   ]
  },
  {
   "cell_type": "code",
   "execution_count": 258,
   "id": "different-degree",
   "metadata": {},
   "outputs": [
    {
     "data": {
      "text/plain": [
       "(0.41317675879494703,\n",
       " array([ 0.10875788, -0.24428406,  0.02825643,  0.01284381, -0.09080593,\n",
       "         0.0433582 , -0.12425074, -0.05104985,  0.03986352,  0.23511143,\n",
       "         0.37855274]),\n",
       " 0.017010771138499903)"
      ]
     },
     "execution_count": 258,
     "metadata": {},
     "output_type": "execute_result"
    }
   ],
   "source": [
    "gradient_descent(df6,10000,0.00001)"
   ]
  },
  {
   "cell_type": "markdown",
   "id": "skilled-diagram",
   "metadata": {},
   "source": [
    "### hyperparameter 10^-6"
   ]
  },
  {
   "cell_type": "code",
   "execution_count": 259,
   "id": "charming-scotland",
   "metadata": {},
   "outputs": [
    {
     "data": {
      "text/plain": [
       "(0.2916034849193102,\n",
       " array([ 0.09094878, -0.01483574,  0.10719033,  0.0176734 ,  0.00766509,\n",
       "         0.03379482, -0.01350934,  0.05449373,  0.121278  ,  0.09527168,\n",
       "         0.22961534]),\n",
       " 0.02063684285707668)"
      ]
     },
     "execution_count": 259,
     "metadata": {},
     "output_type": "execute_result"
    }
   ],
   "source": [
    "gradient_descent(df6,10000,0.000001)"
   ]
  },
  {
   "cell_type": "markdown",
   "id": "willing-daily",
   "metadata": {},
   "source": [
    "### hyperparameter 10^-7"
   ]
  },
  {
   "cell_type": "code",
   "execution_count": 264,
   "id": "asian-pathology",
   "metadata": {},
   "outputs": [
    {
     "data": {
      "text/plain": [
       "(0.26105154460532815,\n",
       " array([0.08696452, 0.06115151, 0.07719118, 0.02805255, 0.02974547,\n",
       "        0.05146651, 0.0308879 , 0.1183063 , 0.11634346, 0.05632919,\n",
       "        0.09988243]),\n",
       " 0.025843336522779446)"
      ]
     },
     "execution_count": 264,
     "metadata": {},
     "output_type": "execute_result"
    }
   ],
   "source": [
    "gradient_descent(df6,10000,0.0000001)"
   ]
  },
  {
   "cell_type": "markdown",
   "id": "excessive-drawing",
   "metadata": {},
   "source": [
    "### hyperparameter 10^-8"
   ]
  },
  {
   "cell_type": "code",
   "execution_count": 266,
   "id": "expected-african",
   "metadata": {},
   "outputs": [
    {
     "data": {
      "text/plain": [
       "(0.07251103749640575,\n",
       " array([0.02428294, 0.01902749, 0.02068955, 0.00814059, 0.00886271,\n",
       "        0.01497106, 0.00979363, 0.03484802, 0.03244248, 0.01487617,\n",
       "        0.02455769]),\n",
       " 0.17550495807372465)"
      ]
     },
     "execution_count": 266,
     "metadata": {},
     "output_type": "execute_result"
    }
   ],
   "source": [
    "gradient_descent(df6,10000,0.00000001)"
   ]
  },
  {
   "cell_type": "code",
   "execution_count": null,
   "id": "quarterly-brunswick",
   "metadata": {},
   "outputs": [],
   "source": []
  },
  {
   "cell_type": "markdown",
   "id": "caring-performer",
   "metadata": {},
   "source": [
    "### (f) Apply batch as well as online optimization algorithms and compare their performance using statistical measures. Compare the time taken by the two algorithms.\n"
   ]
  },
  {
   "cell_type": "markdown",
   "id": "basic-jones",
   "metadata": {},
   "source": [
    "## Batch Gradient Descent Alogorithm"
   ]
  },
  {
   "cell_type": "code",
   "execution_count": 267,
   "id": "constitutional-pension",
   "metadata": {},
   "outputs": [
    {
     "data": {
      "text/plain": [
       "(0.5407800555554853,\n",
       " array([ 0.06718371, -0.31701839, -0.03782658,  0.05227645, -0.22075078,\n",
       "         0.06064083, -0.18238542, -0.05836576, -0.09727041,  0.30699806,\n",
       "         0.35491125]),\n",
       " 0.016671086676918086)"
      ]
     },
     "execution_count": 267,
     "metadata": {},
     "output_type": "execute_result"
    }
   ],
   "source": [
    "gradient_descent(df6,10000,0.0001)"
   ]
  },
  {
   "cell_type": "code",
   "execution_count": null,
   "id": "smaller-delta",
   "metadata": {},
   "outputs": [],
   "source": []
  }
 ],
 "metadata": {
  "kernelspec": {
   "display_name": "Python 3",
   "language": "python",
   "name": "python3"
  },
  "language_info": {
   "codemirror_mode": {
    "name": "ipython",
    "version": 3
   },
   "file_extension": ".py",
   "mimetype": "text/x-python",
   "name": "python",
   "nbconvert_exporter": "python",
   "pygments_lexer": "ipython3",
   "version": "3.6.12"
  }
 },
 "nbformat": 4,
 "nbformat_minor": 5
}
