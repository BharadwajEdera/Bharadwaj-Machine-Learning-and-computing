{
 "cells": [
  {
   "cell_type": "markdown",
   "id": "cooked-accounting",
   "metadata": {},
   "source": [
    "# LINEAR REGRESSION USING DIRECT METHOD"
   ]
  },
  {
   "cell_type": "code",
   "execution_count": 8,
   "id": "enabling-usage",
   "metadata": {},
   "outputs": [],
   "source": [
    "def direct_method(df):\n",
    "    n=len(df.columns)\n",
    "    k=list(df.columns)\n",
    "    \n",
    "    i=len(k)\n",
    "    \n",
    "    p=k[:i-1]\n",
    "    \n",
    "    global x\n",
    "    x=np.array(df[p])\n",
    "    \n",
    "    \n",
    "    global y\n",
    "    y=np.array(df[n-1])\n",
    "    if n < len(y):\n",
    "        p=np.dot(x.T,x)\n",
    "        v=np.linalg.inv(p)\n",
    "        d=np.dot(v,x.T)\n",
    "        w=np.dot(d,y)\n",
    "        return w\n",
    "    if n > len(y):\n",
    "        p= np.dot(x,x.T)\n",
    "        v=np.linalg.inv(p)\n",
    "        d=np.dot(x.T,v)\n",
    "        w=np.dot(d,y)\n",
    "        return w\n",
    "    if n==len(y):\n",
    "        p=np.linalg.inv(x)\n",
    "        w=np.dot(p,y)\n",
    "        return w\n"
   ]
  },
  {
   "cell_type": "markdown",
   "id": "spatial-potential",
   "metadata": {},
   "source": [
    "### FUNCTION CALL TO DIRECT METHOD\n",
    "#### direct_method(Data_Frame_Name)"
   ]
  },
  {
   "cell_type": "code",
   "execution_count": null,
   "id": "fluid-floor",
   "metadata": {},
   "outputs": [],
   "source": []
  }
 ],
 "metadata": {
  "kernelspec": {
   "display_name": "Python 3",
   "language": "python",
   "name": "python3"
  },
  "language_info": {
   "codemirror_mode": {
    "name": "ipython",
    "version": 3
   },
   "file_extension": ".py",
   "mimetype": "text/x-python",
   "name": "python",
   "nbconvert_exporter": "python",
   "pygments_lexer": "ipython3",
   "version": "3.6.12"
  }
 },
 "nbformat": 4,
 "nbformat_minor": 5
}
